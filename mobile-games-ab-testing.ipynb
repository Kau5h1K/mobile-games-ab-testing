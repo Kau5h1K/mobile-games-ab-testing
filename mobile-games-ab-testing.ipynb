{
  "cells": [
    {
      "cell_type": "code",
      "source": [
        "# Importing pandas\n",
        "import pandas as pd\n",
        "# Reading in the data\n",
        "df = pd.read_csv('datasets/cookie_cats.csv')\n",
        "\n",
        "# Showing the first few rows\n",
        "df.head()"
      ],
      "outputs": [
        {
          "output_type": "execute_result",
          "execution_count": 190,
          "data": {
            "text/plain": [
              "   userid  version  sum_gamerounds  retention_1  retention_7\n",
              "0     116  gate_30               3        False        False\n",
              "1     337  gate_30              38         True        False\n",
              "2     377  gate_40             165         True        False\n",
              "3     483  gate_40               1        False        False\n",
              "4     488  gate_40             179         True         True"
            ],
            "text/html": [
              "<div>\n",
              "<style scoped>\n",
              "    .dataframe tbody tr th:only-of-type {\n",
              "        vertical-align: middle;\n",
              "    }\n",
              "\n",
              "    .dataframe tbody tr th {\n",
              "        vertical-align: top;\n",
              "    }\n",
              "\n",
              "    .dataframe thead th {\n",
              "        text-align: right;\n",
              "    }\n",
              "</style>\n",
              "<table border=\"1\" class=\"dataframe\">\n",
              "  <thead>\n",
              "    <tr style=\"text-align: right;\">\n",
              "      <th></th>\n",
              "      <th>userid</th>\n",
              "      <th>version</th>\n",
              "      <th>sum_gamerounds</th>\n",
              "      <th>retention_1</th>\n",
              "      <th>retention_7</th>\n",
              "    </tr>\n",
              "  </thead>\n",
              "  <tbody>\n",
              "    <tr>\n",
              "      <th>0</th>\n",
              "      <td>116</td>\n",
              "      <td>gate_30</td>\n",
              "      <td>3</td>\n",
              "      <td>False</td>\n",
              "      <td>False</td>\n",
              "    </tr>\n",
              "    <tr>\n",
              "      <th>1</th>\n",
              "      <td>337</td>\n",
              "      <td>gate_30</td>\n",
              "      <td>38</td>\n",
              "      <td>True</td>\n",
              "      <td>False</td>\n",
              "    </tr>\n",
              "    <tr>\n",
              "      <th>2</th>\n",
              "      <td>377</td>\n",
              "      <td>gate_40</td>\n",
              "      <td>165</td>\n",
              "      <td>True</td>\n",
              "      <td>False</td>\n",
              "    </tr>\n",
              "    <tr>\n",
              "      <th>3</th>\n",
              "      <td>483</td>\n",
              "      <td>gate_40</td>\n",
              "      <td>1</td>\n",
              "      <td>False</td>\n",
              "      <td>False</td>\n",
              "    </tr>\n",
              "    <tr>\n",
              "      <th>4</th>\n",
              "      <td>488</td>\n",
              "      <td>gate_40</td>\n",
              "      <td>179</td>\n",
              "      <td>True</td>\n",
              "      <td>True</td>\n",
              "    </tr>\n",
              "  </tbody>\n",
              "</table>\n",
              "</div>"
            ]
          },
          "metadata": {}
        }
      ],
      "execution_count": 190,
      "metadata": {
        "trusted": true,
        "tags": [
          "sample_code"
        ],
        "dc": {
          "key": "3"
        }
      }
    },
    {
      "cell_type": "code",
      "source": [
        "# Counting the number of players in each AB group.\n",
        "df.groupby('version')['userid'].count()"
      ],
      "outputs": [
        {
          "output_type": "execute_result",
          "execution_count": 192,
          "data": {
            "text/plain": [
              "version\n",
              "gate_30    44700\n",
              "gate_40    45489\n",
              "Name: userid, dtype: int64"
            ]
          },
          "metadata": {}
        }
      ],
      "execution_count": 192,
      "metadata": {
        "trusted": true,
        "tags": [
          "sample_code"
        ],
        "dc": {
          "key": "10"
        }
      }
    },
    {
      "cell_type": "code",
      "source": [
        "# This command makes plots appear in the notebook\n",
        "%matplotlib inline\n",
        "\n",
        "# Counting the number of players for each number of gamerounds \n",
        "plot_df = df.groupby('sum_gamerounds')['userid'].count()\n",
        "\n",
        "# Plotting the distribution of players that played 0 to 100 game rounds\n",
        "ax = plot_df.head(100).plot(x='sum_gamerounds',y='userid')\n",
        "ax.set_xlabel(\"Game rounds\")\n",
        "ax.set_ylabel(\"UserId\")"
      ],
      "outputs": [
        {
          "output_type": "execute_result",
          "execution_count": 194,
          "data": {
            "text/plain": [
              "Text(0,0.5,'UserId')"
            ]
          },
          "metadata": {}
        },
        {
          "output_type": "display_data",
          "data": {
            "text/plain": [
              "<matplotlib.figure.Figure at 0x7f476a2dba90>"
            ],
            "image/png": "[encoded data removed]"
          },
          "metadata": {}
        }
      ],
      "execution_count": 194,
      "metadata": {
        "trusted": true,
        "tags": [
          "sample_code"
        ],
        "dc": {
          "key": "17"
        }
      }
    },
    {
      "cell_type": "code",
      "source": [
        "# The % of users that came back the day after they installed\n",
        "df['retention_1'].mean()*100"
      ],
      "outputs": [
        {
          "output_type": "execute_result",
          "execution_count": 196,
          "data": {
            "text/plain": [
              "44.52095044850259"
            ]
          },
          "metadata": {}
        }
      ],
      "execution_count": 196,
      "metadata": {
        "trusted": true,
        "tags": [
          "sample_code"
        ],
        "dc": {
          "key": "25"
        }
      }
    },
    {
      "cell_type": "code",
      "source": [
        "# Calculating 1-day retention for each AB-group\n",
        "df.groupby('version')['retention_1'].mean()*100"
      ],
      "outputs": [
        {
          "output_type": "execute_result",
          "execution_count": 198,
          "data": {
            "text/plain": [
              "version\n",
              "gate_30    44.818792\n",
              "gate_40    44.228275\n",
              "Name: retention_1, dtype: float64"
            ]
          },
          "metadata": {}
        }
      ],
      "execution_count": 198,
      "metadata": {
        "trusted": true,
        "tags": [
          "sample_code"
        ],
        "dc": {
          "key": "32"
        }
      }
    },
    {
      "cell_type": "code",
      "source": [
        "# Creating an list with bootstrapped means for each AB-group\n",
        "boot_1d = []\n",
        "iterations = 500\n",
        "for i in range(iterations):\n",
        "    boot_mean = df.sample(frac=1,replace=True).groupby('version')['retention_1'].mean()\n",
        "    boot_1d.append(boot_mean)\n",
        "    \n",
        "# Transforming the list to a DataFrame\n",
        "boot_1d = pd.DataFrame(boot_1d)\n",
        "    \n",
        "# A Kernel Density Estimate plot of the bootstrap distributions\n",
        "boot_1d.plot.density()"
      ],
      "outputs": [
        {
          "output_type": "execute_result",
          "execution_count": 200,
          "data": {
            "text/plain": [
              "<matplotlib.axes._subplots.AxesSubplot at 0x7f477d1af908>"
            ]
          },
          "metadata": {}
        },
        {
          "output_type": "display_data",
          "data": {
            "text/plain": [
              "<matplotlib.figure.Figure at 0x7f477d1a9d30>"
            ],
            "image/png": "[encoded data removed]"
          },
          "metadata": {}
        }
      ],
      "execution_count": 200,
      "metadata": {
        "trusted": true,
        "tags": [
          "sample_code"
        ],
        "dc": {
          "key": "39"
        }
      }
    },
    {
      "cell_type": "code",
      "source": [
        "# Adding a column with the % difference between the two AB-groups\n",
        "boot_1d['diff'] = (boot_1d['gate_30'] - boot_1d['gate_40'])/boot_1d['gate_40']*100\n",
        "\n",
        "# Ploting the bootstrap % difference\n",
        "ax = boot_1d['diff'].plot.density()\n",
        "ax.set_xlabel('% difference between the two AB-groups')"
      ],
      "outputs": [
        {
          "output_type": "execute_result",
          "execution_count": 202,
          "data": {
            "text/plain": [
              "Text(0.5,0,'% difference between the two AB-groups')"
            ]
          },
          "metadata": {}
        },
        {
          "output_type": "display_data",
          "data": {
            "text/plain": [
              "<matplotlib.figure.Figure at 0x7f477f40e2b0>"
            ],
            "image/png": "[encoded data removed]"
          },
          "metadata": {}
        }
      ],
      "execution_count": 202,
      "metadata": {
        "trusted": true,
        "tags": [
          "sample_code"
        ],
        "dc": {
          "key": "47"
        }
      }
    },
    {
      "cell_type": "code",
      "source": [
        "# Calculating the probability that 1-day retention is greater when the gate is at level 30\n",
        "#prob = (boot_1d['diff'] > 0).sum() / len(boot_1d['diff'])\n",
        "prob = (boot_1d['diff'] > 0).mean()\n",
        "# Pretty printing the probability\n",
        "'{:.2f}'.format(prob)"
      ],
      "outputs": [
        {
          "output_type": "execute_result",
          "execution_count": 204,
          "data": {
            "text/plain": [
              "'0.98'"
            ]
          },
          "metadata": {}
        }
      ],
      "execution_count": 204,
      "metadata": {
        "trusted": true,
        "tags": [
          "sample_code"
        ],
        "dc": {
          "key": "54"
        }
      }
    },
    {
      "cell_type": "code",
      "source": [
        "# Calculating 7-day retention for both AB-groups\n",
        "df.groupby('version')['retention_7'].mean()*100"
      ],
      "outputs": [
        {
          "output_type": "execute_result",
          "execution_count": 212,
          "data": {
            "text/plain": [
              "version\n",
              "gate_30    19.020134\n",
              "gate_40    18.200004\n",
              "Name: retention_7, dtype: float64"
            ]
          },
          "metadata": {}
        }
      ],
      "execution_count": 212,
      "metadata": {
        "trusted": true,
        "tags": [
          "sample_code"
        ],
        "dc": {
          "key": "61"
        }
      }
    },
    {
      "cell_type": "code",
      "source": [
        "# Creating a list with bootstrapped means for each AB-group\n",
        "boot_7d = []\n",
        "for i in range(500):\n",
        "    boot_mean = df.sample(frac=1,replace=True).groupby('version')['retention_7'].mean()\n",
        "    boot_7d.append(boot_mean)\n",
        "    \n",
        "# Transforming the list to a DataFrame\n",
        "boot_7d = pd.DataFrame(boot_7d)\n",
        "# Adding a column with the % difference between the two AB-groups\n",
        "boot_7d['diff'] = (boot_7d['gate_30'] - boot_7d['gate_40'])/boot_7d['gate_40']*100\n",
        "\n",
        "# Ploting the bootstrap % difference\n",
        "ax = boot_7d['diff'].plot.density()\n",
        "ax.set_xlabel(\"% difference in means\")\n",
        "\n",
        "# Calculating the probability that 7-day retention is greater when the gate is at level 30\n",
        "prob = (boot_7d['diff'] > 0).mean()\n",
        "\n",
        "# Pretty printing the probability\n",
        "'{:.2f}'.format(prob)"
      ],
      "outputs": [
        {
          "output_type": "execute_result",
          "execution_count": 213,
          "data": {
            "text/plain": [
              "'1.00'"
            ]
          },
          "metadata": {}
        },
        {
          "output_type": "display_data",
          "data": {
            "text/plain": [
              "<matplotlib.figure.Figure at 0x7f477d02df98>"
            ],
            "image/png": "[encoded data removed]"
          },
          "metadata": {}
        }
      ],
      "execution_count": 213,
      "metadata": {
        "trusted": true,
        "tags": [
          "sample_code"
        ],
        "dc": {
          "key": "68"
        }
      }
    },
    {
      "cell_type": "code",
      "source": [
        "# So, given the data and the bootstrap analysis\n",
        "# Should we move the gate from level 30 to level 40 ?\n",
        "move_to_level_40 = False # True or False ?"
      ],
      "outputs": [],
      "execution_count": 210,
      "metadata": {
        "trusted": true,
        "collapsed": true,
        "tags": [
          "sample_code"
        ],
        "dc": {
          "key": "75"
        }
      }
    }
  ],
  "metadata": {
    "kernelspec": {
      "name": "python3",
      "language": "python",
      "display_name": "Python 3"
    },
    "language_info": {
      "name": "python",
      "version": "3.6.8",
      "mimetype": "text/x-python",
      "codemirror_mode": {
        "name": "ipython",
        "version": 3
      },
      "pygments_lexer": "ipython3",
      "nbconvert_exporter": "python",
      "file_extension": ".py"
    },
    "kernel_info": {
      "name": "python3"
    },
    "nteract": {
      "version": "0.12.3"
    }
  },
  "nbformat": 4,
  "nbformat_minor": 2
}